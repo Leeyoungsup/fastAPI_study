{
 "cells": [
  {
   "cell_type": "code",
   "execution_count": null,
   "id": "a51f7339",
   "metadata": {},
   "outputs": [],
   "source": []
  }
 ],
 "metadata": {
  "kernelspec": {
   "display_name": "service_distribution",
   "language": "python",
   "name": "python3"
  },
  "language_info": {
   "name": "python",
   "version": "3.12.11"
  }
 },
 "nbformat": 4,
 "nbformat_minor": 5
}
